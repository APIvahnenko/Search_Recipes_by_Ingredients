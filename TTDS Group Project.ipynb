{
 "cells": [
  {
   "cell_type": "code",
   "execution_count": 1,
   "metadata": {},
   "outputs": [],
   "source": [
    "import nltk, re, pprint\n",
    "from nltk.stem import PorterStemmer\n",
    "from nltk.tokenize import sent_tokenize, word_tokenize\n",
    "from nltk.corpus import stopwords\n",
    "\n",
    "import pandas as pd\n",
    "import numpy as np\n",
    "\n",
    "import sys\n",
    "import pymysql\n",
    "\n",
    "ps = PorterStemmer()"
   ]
  },
  {
   "cell_type": "code",
   "execution_count": null,
   "metadata": {},
   "outputs": [],
   "source": [
    "##Loading the file all at once\n",
    "# df = pd.read_csv('recipes.txt', sep=\"*****eol*****\", header=None)\n",
    "# df.columns = ['URL', 'title', 'content']\n",
    "# df['content'] = df['content'].str.replace(r\"\\<.*?\\>\",\" \")\n",
    "# df"
   ]
  },
  {
   "cell_type": "code",
   "execution_count": 13,
   "metadata": {},
   "outputs": [
    {
     "name": "stdout",
     "output_type": "stream",
     "text": [
      "URL:  п»їhttp://5000best.com/websites\n",
      "Title:  5000 Best Websites 5000 Best Websites\n",
      "\n",
      "URL:  http://5000best.com/websites/Books/\n",
      "Title:  5000 Best Websites - Books 5000 Best Websites - Books\n",
      "\n",
      "URL:  http://5000best.com/websites/8/\n",
      "Title:  5000 Best Websites 5000 Best Websites\n",
      "\n",
      "URL:  http://sharedcount.com/?url=http://blogger.com\n",
      "Title:  SharedCount: Social URL Analytics SharedCount: Social URL AnalyticsPricingFAQAPI DocsContactLoginRegisterPricingFAQAPI DocsContactLoginRegisterSharedCountTrack URL Shares, Likes, and More.Or LoginRegisterTrusted by Over 1,000 Marketing Agencies WorldwideAbout UsCreated in 2010, SharedCount was the first API tool capable of giving you holistic engagement data on your website content. From simple use with WordPress, to larger API integrations, SharedCount makes it easy to see what content is connecting, what content is not, and where you should focus your efforts to maximize ROI.\n",
      "\n",
      "URL:  http://5000best.com/websites/30/\n",
      "Title:  5000 Best Websites 5000 Best Websites\n",
      "\n",
      "URL:  http://sharedcount.com/?url=http://indeed.com\n",
      "Title:  SharedCount: Social URL Analytics SharedCount: Social URL AnalyticsPricingFAQAPI DocsContactLoginRegisterPricingFAQAPI DocsContactLoginRegisterSharedCountTrack URL Shares, Likes, and More.Or LoginRegisterTrusted by Over 1,000 Marketing Agencies WorldwideAbout UsCreated in 2010, SharedCount was the first API tool capable of giving you holistic engagement data on your website content. From simple use with WordPress, to larger API integrations, SharedCount makes it easy to see what content is connecting, what content is not, and where you should focus your efforts to maximize ROI.\n",
      "\n",
      "URL:  http://5000best.com/websites/Commerce/\n",
      "Title:  5000 Best Websites - Commerce 5000 Best Websites - Commerce\n",
      "\n",
      "URL:  http://www.alexa.com/siteinfo/flickr.com\n",
      "Title:  flickr.com Competitive Analysis, Marketing Mix and Traffic - Alexa flickr.com Competitive Analysis, Marketing Mix and Traffic - Alexa\n",
      "\n",
      "URL:  http://5000best.com/websites/Tools\n",
      "Title:  5000 Best Websites - Tools 5000 Best Websites - Tools\n",
      "\n",
      "URL:  http://5000best.com/websites/26/\n",
      "Title:  5000 Best Websites 5000 Best Websites\n",
      "\n",
      "URL:  http://5000best.com/games/\n",
      "Title:  5000 Best Games 5000 Best Games\n",
      "\n",
      "URL:  http://sharedcount.com/?url=http://yahoo.com\n",
      "Title:  SharedCount: Social URL Analytics SharedCount: Social URL AnalyticsPricingFAQAPI DocsContactLoginRegisterPricingFAQAPI DocsContactLoginRegisterSharedCountTrack URL Shares, Likes, and More.Or LoginRegisterTrusted by Over 1,000 Marketing Agencies WorldwideAbout UsCreated in 2010, SharedCount was the first API tool capable of giving you holistic engagement data on your website content. From simple use with WordPress, to larger API integrations, SharedCount makes it easy to see what content is connecting, what content is not, and where you should focus your efforts to maximize ROI.\n",
      "\n",
      "URL:  http://www.quantcast.com/live.com\n",
      "Title:  Login Login\n",
      "\n",
      "URL:  http://www.quantcast.com/paypal.com\n",
      "Title:  Login Login\n",
      "\n",
      "URL:  http://sharedcount.com/?url=http://craigslist.org\n",
      "Title:  SharedCount: Social URL Analytics SharedCount: Social URL AnalyticsPricingFAQAPI DocsContactLoginRegisterPricingFAQAPI DocsContactLoginRegisterSharedCountTrack URL Shares, Likes, and More.Or LoginRegisterTrusted by Over 1,000 Marketing Agencies WorldwideAbout UsCreated in 2010, SharedCount was the first API tool capable of giving you holistic engagement data on your website content. From simple use with WordPress, to larger API integrations, SharedCount makes it easy to see what content is connecting, what content is not, and where you should focus your efforts to maximize ROI.\n",
      "\n"
     ]
    }
   ],
   "source": [
    "f = open('contents.txt')\n",
    "\n",
    "new_doc = 1\n",
    "content = \"\"\n",
    "\n",
    "for line in f.readlines():\n",
    "        \n",
    "    if new_doc:\n",
    "        url, title  =  line.split(\" \", 1)\n",
    "        new_doc = 0\n",
    "        print(\"URL: \" , url)\n",
    "        print(\"Title: \" , title)\n",
    "        continue\n",
    "\n",
    "    if \"*****eol*****\" not in line:\n",
    "        content += \" \" + line\n",
    "    \n",
    "    else:\n",
    "        new_doc = 1\n",
    "        #print(\"Content: \" , content)\n",
    "              \n",
    "f.close()"
   ]
  },
  {
   "cell_type": "code",
   "execution_count": 15,
   "metadata": {},
   "outputs": [
    {
     "name": "stdout",
     "output_type": "stream",
     "text": [
      "records inserted\n"
     ]
    }
   ],
   "source": [
    "### Laoding File into SQL ###\n",
    "mydb = pymysql.connect(\"localhost\",\"root\",\"\",\"web_crawl\")\n",
    "cursor = mydb.cursor()\n",
    "\n",
    "# if tabel exists drop and create new one #### if its a big table do not do this\n",
    "sql = \"DROP TABLE IF EXISTS web_crawl\"\n",
    "cursor.execute(sql)\n",
    "cursor.execute(\"CREATE TABLE web_crawl (URL VARCHAR(255), title VARCHAR(255), content VARCHAR(10000))\")\n",
    "\n",
    "# append to the table line by line\n",
    "f = open('recipes.txt')\n",
    "for line in f:\n",
    "    \n",
    "    URL, title, cont = line.split(\"|\")\n",
    "    sql = \"INSERT INTO web_crawl (URL, title, content) VALUES (%s, %s, %s)\"\n",
    "    val = (URL, title, cont)\n",
    "    cursor.execute(sql, val)\n",
    "    mydb.commit()\n",
    "    \n",
    "f.close()\n",
    "\n",
    "print(\"records inserted\")\n",
    "#######################################"
   ]
  },
  {
   "cell_type": "code",
   "execution_count": 16,
   "metadata": {},
   "outputs": [],
   "source": [
    "def token(text):\n",
    "    \n",
    "    # words = word_tokenize(text) # easy way out\n",
    "    words = re.split('\\W+', text)  # Spliting by white space and punctuation\n",
    "    words = [word.lower() for word in words] # Case folding\n",
    "    words = list(filter(None, words)) # Remove extra white space left behind \n",
    "\n",
    "    return words"
   ]
  },
  {
   "cell_type": "code",
   "execution_count": 17,
   "metadata": {},
   "outputs": [],
   "source": [
    "def stopwords(words):\n",
    "    \n",
    "    stopwords = ['h1', 'div', 'class','h2', 'p', 'href', 'gel', 'pica', 'and' , 'a']\n",
    "    filtered_words = []\n",
    "\n",
    "    for w in words:\n",
    "        if w not in stopwords:\n",
    "            if w is not None:\n",
    "                filtered_words.append(w)\n",
    "\n",
    "    return filtered_words"
   ]
  },
  {
   "cell_type": "code",
   "execution_count": 18,
   "metadata": {},
   "outputs": [],
   "source": [
    "def preprocess(raw_text):\n",
    "\n",
    "    words = token(raw_text)\n",
    "    filtered_words = stopwords(words)\n",
    "\n",
    "    return filtered_words"
   ]
  },
  {
   "cell_type": "code",
   "execution_count": 35,
   "metadata": {},
   "outputs": [],
   "source": [
    "cursor.execute(\"SELECT URL, content FROM web_crawl\")\n",
    "myresult = cursor.fetchall()\n",
    "\n",
    "collection = []\n",
    "docText = {}\n",
    "\n",
    "for i in range(len(myresult)):\n",
    "\n",
    "    doc = myresult[i][0]\n",
    "    content = preprocess(myresult[i][1])\n",
    "    \n",
    "    collection.extend(content)\n",
    "    docText[doc] = content"
   ]
  },
  {
   "cell_type": "code",
   "execution_count": null,
   "metadata": {},
   "outputs": [],
   "source": []
  }
 ],
 "metadata": {
  "kernelspec": {
   "display_name": "Python 3",
   "language": "python",
   "name": "python3"
  },
  "language_info": {
   "codemirror_mode": {
    "name": "ipython",
    "version": 3
   },
   "file_extension": ".py",
   "mimetype": "text/x-python",
   "name": "python",
   "nbconvert_exporter": "python",
   "pygments_lexer": "ipython3",
   "version": "3.7.3"
  }
 },
 "nbformat": 4,
 "nbformat_minor": 2
}
